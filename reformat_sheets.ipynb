{
 "cells": [
  {
   "cell_type": "code",
   "execution_count": null,
   "metadata": {},
   "outputs": [],
   "source": [
    "#Defines when a case starts\n",
    "start = 'Vanilla Looping & Tipping Training'\n",
    "\n",
    "#These are questions where the answer is found in the same line of text as the question\n",
    "inline_qs = ['Name:','Phone contact:','1. Number of vanilla plants grown:']\n",
    "\n",
    "#These are the regular questions where the answer is found in between two questions\n",
    "questions = ['2. Last year did you loop your vanilla vines?',\n",
    "             '3. Last year did you tip your vanilla vines?',\n",
    "             'Why looping vanilla is important',\n",
    "             'When to loop vanilla vines?',\n",
    "             'How to loop vanilla vines?',\n",
    "             'Why tipping vanilla is important',\n",
    "             'When to tip vanilla plants',\n",
    "             'How to tip vanilla plants',\n",
    "             '6. This season do you plan on looping your vanilla vines?',\n",
    "             '7. This season do you plan on tipping your vanilla vines?',\n",
    "             'No plants',\n",
    "             '9. Are you interested in joining a Kalapu T? Vanilla']\n",
    "\n",
    "#Defines when a case ends\n",
    "end = 'Thank you for your feedback.'"
   ]
  },
  {
   "cell_type": "code",
   "execution_count": null,
   "metadata": {},
   "outputs": [],
   "source": [
    "#This is how you find the answer for inline questions, and handle missing data (mainly phone number)\n",
    "def inline(question,line):\n",
    "    answer = line.split(question)[1].lstrip().replace('\\n','').replace('\\t','').replace(',','')\n",
    "    if answer == '':\n",
    "        answer = 'NA'\n",
    "    answers.append(answer+',')\n",
    "\n",
    "#This is handling missing data for regular questions\n",
    "def normal_q(question,line,answer):\n",
    "    if answer =='NA':\n",
    "        answers.append(answer+',')\n",
    "    return question, 'NA'\n",
    "\n",
    "#This strips the string of unnecessary white space and eliminate punctuation so we can export to csv\n",
    "def strip_text(answer):\n",
    "    out = answer.split('\\t')[0].lstrip().replace('\\t','').replace('\\n','').replace('?','').replace(',','')\n",
    "    return out\n",
    "\n",
    "#This handles variation in when the answer follows or preceeds the checkbox (replaced wih '!@#$')\n",
    "def process_answer(curq,line,l0):\n",
    "    if line.split('!@#$')[1] == '\\n':\n",
    "        answer = strip_text(l0)\n",
    "        answers.append(answer+',')\n",
    "    else:\n",
    "        answer = strip_text(line.split('!@#$')[1])\n",
    "        answers.append(answer+',')\n",
    "    return answer"
   ]
  },
  {
   "cell_type": "code",
   "execution_count": null,
   "metadata": {
    "scrolled": true
   },
   "outputs": [],
   "source": [
    "#Empty container things that we'll use later\n",
    "output, answers,answer, line = [],[],' NA ',''\n",
    "\n",
    "#Writing question headers as first row of csv output file\n",
    "out_file = open('West_reformat.csv','w')\n",
    "out_file.writelines('Name,Phone,1,2,3,4a,4b,4c,5a,5b,5c,6,7,8a,8b,9 \\n')\n",
    "\n",
    "#Going through each line of text\n",
    "\n",
    "#Finding the answer and handling missing data given the question type\n",
    "#Searches in between the text of two questions to find answer\n",
    "#If no answer found, it records 'NA' into the cell\n",
    "#Answers reformatted to remove white space, punctuation, and \n",
    "with open(\"Vanilla Looping Feedback - West.txt\", \"r\") as f:\n",
    "    for line_1 in f:\n",
    "        l0 = line\n",
    "        line = line_1\n",
    "        #identifying if it is a normal question and dealing with NA\n",
    "        for q, question in enumerate(questions):\n",
    "            if question in line:\n",
    "                curq, answer = normal_q(question,line,answer)\n",
    "        #identifying if it is an inline question and dealing with NA\n",
    "        for q, question in enumerate(inline_qs):\n",
    "            if question in line:\n",
    "                inline(question,line)\n",
    "        #Finding the answer and formatting string\n",
    "        if '!@#$' in line:\n",
    "            answer = process_answer(curq,line,l0)\n",
    "        #Finding end of case and writing line of data to csv\n",
    "        if end in line:\n",
    "            out_file.writelines(answers)\n",
    "            out_file.writelines('\\n')\n",
    "            answers, answer =[], ' NA '\n",
    "            answer= ' NA '\n",
    "\n",
    "out_file.close()"
   ]
  },
  {
   "cell_type": "code",
   "execution_count": null,
   "metadata": {
    "scrolled": false
   },
   "outputs": [],
   "source": [
    "with open('West_reformat.csv', \"r\") as f:\n",
    "    for i in range(250):\n",
    "        print(f.readline())"
   ]
  },
  {
   "cell_type": "code",
   "execution_count": null,
   "metadata": {},
   "outputs": [],
   "source": []
  }
 ],
 "metadata": {
  "kernelspec": {
   "display_name": "PFR Python3-3.6.6",
   "language": "python",
   "name": "pfr-python3-3.6.6"
  },
  "language_info": {
   "codemirror_mode": {
    "name": "ipython",
    "version": 3
   },
   "file_extension": ".py",
   "mimetype": "text/x-python",
   "name": "python",
   "nbconvert_exporter": "python",
   "pygments_lexer": "ipython3",
   "version": "3.6.6"
  }
 },
 "nbformat": 4,
 "nbformat_minor": 4
}
